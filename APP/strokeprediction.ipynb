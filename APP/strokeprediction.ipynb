{
  "cells": [
    {
      "cell_type": "markdown",
      "metadata": {
        "colab_type": "text",
        "id": "view-in-github"
      },
      "source": [
        "<a href=\"https://colab.research.google.com/github/plk456/strokeprediction/blob/main/strokeprediction.ipynb\" target=\"_parent\"><img src=\"https://colab.research.google.com/assets/colab-badge.svg\" alt=\"Open In Colab\"/></a>"
      ]
    },
    {
      "cell_type": "code",
      "execution_count": null,
      "metadata": {
        "id": "xMzGGgTPByX0"
      },
      "outputs": [],
      "source": [
        "import pandas as pd\n",
        "import numpy as np\n",
        "from sklearn.model_selection import train_test_split\n",
        "from sklearn.pipeline import Pipeline\n",
        "from sklearn.impute import SimpleImputer\n",
        "from imblearn.over_sampling import SMOTE\n",
        "from sklearn.model_selection import StratifiedKFold\n",
        "from sklearn.model_selection import GridSearchCV\n",
        "from sklearn.preprocessing import StandardScaler,LabelEncoder\n",
        "from sklearn.linear_model import LogisticRegression\n",
        "from sklearn.tree import DecisionTreeClassifier\n",
        "from sklearn.ensemble import RandomForestClassifier\n",
        "from sklearn.svm import SVC\n",
        "from sklearn.neighbors import KNeighborsClassifier\n",
        "from sklearn.metrics import  accuracy_score, f1_score,recall_score\n",
        "import matplotlib.pyplot as plt\n",
        "%matplotlib inline\n",
        "import warnings\n",
        "warnings.filterwarnings('ignore')"
      ]
    },
    {
      "cell_type": "code",
      "execution_count": 3,
      "metadata": {},
      "outputs": [
        {
          "name": "stdout",
          "output_type": "stream",
          "text": [
            "      id  gender   age  hypertension  heart_disease ever_married  \\\n",
            "0   9046    Male  67.0             0              1          Yes   \n",
            "1  51676  Female  61.0             0              0          Yes   \n",
            "2  31112    Male  80.0             0              1          Yes   \n",
            "3  60182  Female  49.0             0              0          Yes   \n",
            "4   1665  Female  79.0             1              0          Yes   \n",
            "\n",
            "       work_type Residence_type  avg_glucose_level   bmi   smoking_status  \\\n",
            "0        Private          Urban             228.69  36.6  formerly smoked   \n",
            "1  Self-employed          Rural             202.21   NaN     never smoked   \n",
            "2        Private          Rural             105.92  32.5     never smoked   \n",
            "3        Private          Urban             171.23  34.4           smokes   \n",
            "4  Self-employed          Rural             174.12  24.0     never smoked   \n",
            "\n",
            "   stroke  \n",
            "0       1  \n",
            "1       1  \n",
            "2       1  \n",
            "3       1  \n",
            "4       1  \n"
          ]
        }
      ],
      "source": [
        "n=pd.read_csv('hearthstoke.csv')\n",
        "print(n.head())"
      ]
    },
    {
      "cell_type": "code",
      "execution_count": 4,
      "metadata": {
        "colab": {
          "base_uri": "https://localhost:8080/"
        },
        "id": "AAdlwSjSX8Kw",
        "outputId": "542fb544-24da-404a-ce6a-620af803a051"
      },
      "outputs": [
        {
          "name": "stdout",
          "output_type": "stream",
          "text": [
            "         id  gender   age  hypertension  heart_disease  ever_married  \\\n",
            "0      9046       1  67.0             0              1             1   \n",
            "1     51676       0  61.0             0              0             1   \n",
            "2     31112       1  80.0             0              1             1   \n",
            "3     60182       0  49.0             0              0             1   \n",
            "4      1665       0  79.0             1              0             1   \n",
            "...     ...     ...   ...           ...            ...           ...   \n",
            "5105  18234       0  80.0             1              0             1   \n",
            "5106  44873       0  81.0             0              0             1   \n",
            "5107  19723       0  35.0             0              0             1   \n",
            "5108  37544       1  51.0             0              0             1   \n",
            "5109  44679       0  44.0             0              0             1   \n",
            "\n",
            "      work_type  Residence_type  avg_glucose_level   bmi  smoking_status  \\\n",
            "0             2               1             228.69  36.6               1   \n",
            "1             3               0             202.21   NaN               2   \n",
            "2             2               0             105.92  32.5               2   \n",
            "3             2               1             171.23  34.4               3   \n",
            "4             3               0             174.12  24.0               2   \n",
            "...         ...             ...                ...   ...             ...   \n",
            "5105          2               1              83.75   NaN               2   \n",
            "5106          3               1             125.20  40.0               2   \n",
            "5107          3               0              82.99  30.6               2   \n",
            "5108          2               0             166.29  25.6               1   \n",
            "5109          0               1              85.28  26.2               0   \n",
            "\n",
            "      stroke  \n",
            "0          1  \n",
            "1          1  \n",
            "2          1  \n",
            "3          1  \n",
            "4          1  \n",
            "...      ...  \n",
            "5105       0  \n",
            "5106       0  \n",
            "5107       0  \n",
            "5108       0  \n",
            "5109       0  \n",
            "\n",
            "[5110 rows x 12 columns]\n"
          ]
        }
      ],
      "source": [
        "le_gender=LabelEncoder()\n",
        "le_ever_married=LabelEncoder()\n",
        "le_work_type=LabelEncoder()\n",
        "le_Residence=LabelEncoder()\n",
        "le_smoking=LabelEncoder()\n",
        "n['gender']=le_gender.fit_transform(n['gender'])\n",
        "n['ever_married']=le_ever_married.fit_transform(n['ever_married'])\n",
        "n['work_type']=le_work_type.fit_transform(n['work_type'])\n",
        "n['Residence_type']=le_Residence.fit_transform(n['Residence_type'])\n",
        "n['smoking_status']=le_smoking.fit_transform(n['smoking_status'])\n",
        "print(n)"
      ]
    },
    {
      "cell_type": "markdown",
      "metadata": {
        "id": "PYPiI7ZFXuHc"
      },
      "source": [
        "# i am deleting \"id\" column because it is not useful for me in this dataset"
      ]
    },
    {
      "cell_type": "code",
      "execution_count": 5,
      "metadata": {
        "id": "5rRChUGP2tLo"
      },
      "outputs": [],
      "source": [
        "n=n.drop(['id'],axis=1)"
      ]
    },
    {
      "cell_type": "code",
      "execution_count": 6,
      "metadata": {
        "colab": {
          "base_uri": "https://localhost:8080/"
        },
        "id": "1jvFf2kFXGC5",
        "outputId": "356a0902-fe35-49ac-a656-97d835be1e2d"
      },
      "outputs": [
        {
          "name": "stdout",
          "output_type": "stream",
          "text": [
            "      gender   age  hypertension  heart_disease  ever_married  work_type  \\\n",
            "0          1  67.0             0              1             1          2   \n",
            "1          0  61.0             0              0             1          3   \n",
            "2          1  80.0             0              1             1          2   \n",
            "3          0  49.0             0              0             1          2   \n",
            "4          0  79.0             1              0             1          3   \n",
            "...      ...   ...           ...            ...           ...        ...   \n",
            "5105       0  80.0             1              0             1          2   \n",
            "5106       0  81.0             0              0             1          3   \n",
            "5107       0  35.0             0              0             1          3   \n",
            "5108       1  51.0             0              0             1          2   \n",
            "5109       0  44.0             0              0             1          0   \n",
            "\n",
            "      Residence_type  avg_glucose_level   bmi  smoking_status  stroke  \n",
            "0                  1             228.69  36.6               1       1  \n",
            "1                  0             202.21   NaN               2       1  \n",
            "2                  0             105.92  32.5               2       1  \n",
            "3                  1             171.23  34.4               3       1  \n",
            "4                  0             174.12  24.0               2       1  \n",
            "...              ...                ...   ...             ...     ...  \n",
            "5105               1              83.75   NaN               2       0  \n",
            "5106               1             125.20  40.0               2       0  \n",
            "5107               0              82.99  30.6               2       0  \n",
            "5108               0             166.29  25.6               1       0  \n",
            "5109               1              85.28  26.2               0       0  \n",
            "\n",
            "[5110 rows x 11 columns]\n"
          ]
        }
      ],
      "source": [
        "print(n)"
      ]
    },
    {
      "cell_type": "markdown",
      "metadata": {
        "id": "VHm-UN02YDb9"
      },
      "source": [
        "# Here you can see Nan values"
      ]
    },
    {
      "cell_type": "code",
      "execution_count": 7,
      "metadata": {
        "colab": {
          "base_uri": "https://localhost:8080/"
        },
        "id": "Uz3eUQ5PXVM5",
        "outputId": "1cd6b45c-26c5-424f-ebda-723150ad143a"
      },
      "outputs": [
        {
          "name": "stdout",
          "output_type": "stream",
          "text": [
            "       bmi\n",
            "0     36.6\n",
            "1      NaN\n",
            "2     32.5\n",
            "3     34.4\n",
            "4     24.0\n",
            "...    ...\n",
            "5105   NaN\n",
            "5106  40.0\n",
            "5107  30.6\n",
            "5108  25.6\n",
            "5109  26.2\n",
            "\n",
            "[5110 rows x 1 columns]\n"
          ]
        }
      ],
      "source": [
        "print(n.iloc[:,8:9])"
      ]
    },
    {
      "cell_type": "code",
      "execution_count": 8,
      "metadata": {
        "id": "LXHr8ZTIW3XY"
      },
      "outputs": [],
      "source": [
        "imputer=SimpleImputer(missing_values=np.nan,strategy='mean')\n",
        "imputer.fit(n.iloc[:,8:9])\n",
        "n.iloc[:,8:9]=imputer.transform(n.iloc[:,8:9])\n"
      ]
    },
    {
      "cell_type": "code",
      "execution_count": 9,
      "metadata": {
        "colab": {
          "base_uri": "https://localhost:8080/"
        },
        "id": "R8DY76bZMB8j",
        "outputId": "812afff7-62cd-4b5f-a170-45399ef32964"
      },
      "outputs": [
        {
          "name": "stdout",
          "output_type": "stream",
          "text": [
            "      gender   age  hypertension  heart_disease  ever_married  work_type  \\\n",
            "0          1  67.0             0              1             1          2   \n",
            "1          0  61.0             0              0             1          3   \n",
            "2          1  80.0             0              1             1          2   \n",
            "3          0  49.0             0              0             1          2   \n",
            "4          0  79.0             1              0             1          3   \n",
            "...      ...   ...           ...            ...           ...        ...   \n",
            "5105       0  80.0             1              0             1          2   \n",
            "5106       0  81.0             0              0             1          3   \n",
            "5107       0  35.0             0              0             1          3   \n",
            "5108       1  51.0             0              0             1          2   \n",
            "5109       0  44.0             0              0             1          0   \n",
            "\n",
            "      Residence_type  avg_glucose_level        bmi  smoking_status  stroke  \n",
            "0                  1             228.69  36.600000               1       1  \n",
            "1                  0             202.21  28.893237               2       1  \n",
            "2                  0             105.92  32.500000               2       1  \n",
            "3                  1             171.23  34.400000               3       1  \n",
            "4                  0             174.12  24.000000               2       1  \n",
            "...              ...                ...        ...             ...     ...  \n",
            "5105               1              83.75  28.893237               2       0  \n",
            "5106               1             125.20  40.000000               2       0  \n",
            "5107               0              82.99  30.600000               2       0  \n",
            "5108               0             166.29  25.600000               1       0  \n",
            "5109               1              85.28  26.200000               0       0  \n",
            "\n",
            "[5110 rows x 11 columns]\n"
          ]
        }
      ],
      "source": [
        "print(n)"
      ]
    },
    {
      "cell_type": "code",
      "execution_count": 10,
      "metadata": {
        "id": "YqyuQ1gBZIAy"
      },
      "outputs": [],
      "source": [
        "x=n.drop(['stroke'],axis=1)\n",
        "X=x.head(500)\n",
        "y=n['stroke']\n",
        "Y=y.head(500)\n",
        "\n",
        "x_train,x_test,y_train,y_test=train_test_split(X,Y,test_size=0.2,random_state=42)"
      ]
    },
    {
      "cell_type": "code",
      "execution_count": null,
      "metadata": {
        "id": "26969WQHZbpf"
      },
      "outputs": [
        {
          "name": "stdout",
          "output_type": "stream",
          "text": [
            "training the current model is linear is running...\n",
            "training the current model is random is running...\n",
            "training the current model is tree is running...\n",
            "training the current model is svm is running...\n",
            "training the current model is neighbors is running...\n",
            "Model: linear\n",
            "Best Parameters: {'classification__C': 0.1, 'classification__penalty': 'l1', 'classification__solver': 'liblinear'}\n",
            "Best Score: 0.7612\n",
            "----------------------------------------\n",
            "Model: random\n",
            "Best Parameters: {'classification__max_depth': None, 'classification__min_samples_split': 5, 'classification__n_estimators': 200}\n",
            "Best Score: 0.7760\n",
            "----------------------------------------\n",
            "Model: tree\n",
            "Best Parameters: {'classification__max_depth': 20, 'classification__min_samples_split': 10}\n",
            "Best Score: 0.6949\n",
            "----------------------------------------\n",
            "Model: svm\n",
            "Best Parameters: {'classification__C': 0.1, 'classification__gamma': 'scale'}\n",
            "Best Score: 0.7366\n",
            "----------------------------------------\n",
            "Model: neighbors\n",
            "Best Parameters: {'classification__n_neighbors': 7, 'classification__weights': 'uniform'}\n",
            "Best Score: 0.6922\n",
            "----------------------------------------\n"
          ]
        }
      ],
      "source": [
        "result={}\n",
        "\n",
        "models={\n",
        "    'linear':LogisticRegression(max_iter=500),\n",
        "    'random':RandomForestClassifier(),\n",
        "    'tree':DecisionTreeClassifier(),\n",
        "    'svm':SVC(kernel='rbf',C=1,gamma='scale'),\n",
        "    'neighbors':KNeighborsClassifier(),   \n",
        "\n",
        "}\n",
        "\n",
        "\n",
        "\n",
        "param_grids = {\n",
        "        'linear': {\n",
        "            'C': [0.1, 1, 10],\n",
        "            'penalty': ['l1', 'l2'],\n",
        "            'solver': ['liblinear']\n",
        "        },\n",
        "    'random': {\n",
        "        'n_estimators': [50, 100, 200],\n",
        "        'max_depth': [None, 10, 20],\n",
        "        'min_samples_split': [2, 5]\n",
        "    },\n",
        "    'tree': {\n",
        "        'max_depth': [None, 10, 20],\n",
        "        'min_samples_split': [2, 5, 10]\n",
        "    },\n",
        "    'svm': {\n",
        "        'C': [0.1, 1, 10],\n",
        "        'gamma': ['scale', 'auto']\n",
        "    },\n",
        "    'neighbors': {\n",
        "        'n_neighbors': [3, 5, 7],\n",
        "        'weights': ['uniform', 'distance']\n",
        "    }\n",
        "}\n",
        "\n",
        "smote=SMOTE(random_state=42)  \n",
        "x_train, y_train = smote.fit_resample(x_train, y_train) \n",
        "\n",
        "CV=StratifiedKFold(n_splits=5,shuffle=True,random_state=42)\n",
        "\n",
        "for model_name,model in models.items():\n",
        "    pipeline=Pipeline([\n",
        "    ('imputer',SimpleImputer()),\n",
        "    ('scaler',StandardScaler()),\n",
        "    ('classification',model)\n",
        "    ])\n",
        "\n",
        "    param_grid = {f'classification__{key}': value for key, value in param_grids[model_name].items()}\n",
        "    print(f'training the current model is {model_name} is running...')\n",
        "\n",
        "    grid_params=GridSearchCV(\n",
        "        estimator=pipeline,\n",
        "        param_grid=param_grid,\n",
        "        cv=CV,\n",
        "        scoring='accuracy'\n",
        "    )\n",
        "    grid_params.fit(x_train, y_train)\n",
        "    result[model_name] = grid_params\n",
        "\n",
        "for model_name, grid_params in result.items():\n",
        "        best_params = grid_params.best_params_\n",
        "        best_score = grid_params.best_score_\n",
        "        print(f\"Model: {model_name}\")\n",
        "        print(f\"Best Parameters: {best_params}\")\n",
        "        print(f\"Best Score: {best_score:.4f}\")\n",
        "        print(\"-\" * 40)"
      ]
    }
  ],
  "metadata": {
    "accelerator": "GPU",
    "colab": {
      "authorship_tag": "ABX9TyMJSdmABlNsbk0K/xCnKtxt",
      "gpuType": "T4",
      "include_colab_link": true,
      "provenance": []
    },
    "kernelspec": {
      "display_name": "myvenv",
      "language": "python",
      "name": "python3"
    },
    "language_info": {
      "codemirror_mode": {
        "name": "ipython",
        "version": 3
      },
      "file_extension": ".py",
      "mimetype": "text/x-python",
      "name": "python",
      "nbconvert_exporter": "python",
      "pygments_lexer": "ipython3",
      "version": "3.12.9"
    }
  },
  "nbformat": 4,
  "nbformat_minor": 0
}
