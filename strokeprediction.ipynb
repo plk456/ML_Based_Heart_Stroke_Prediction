{
  "nbformat": 4,
  "nbformat_minor": 0,
  "metadata": {
    "colab": {
      "provenance": [],
      "gpuType": "T4",
      "authorship_tag": "ABX9TyMJSdmABlNsbk0K/xCnKtxt",
      "include_colab_link": true
    },
    "kernelspec": {
      "name": "python3",
      "display_name": "Python 3"
    },
    "language_info": {
      "name": "python"
    },
    "accelerator": "GPU"
  },
  "cells": [
    {
      "cell_type": "markdown",
      "metadata": {
        "id": "view-in-github",
        "colab_type": "text"
      },
      "source": [
        "<a href=\"https://colab.research.google.com/github/plk456/strokeprediction/blob/main/strokeprediction.ipynb\" target=\"_parent\"><img src=\"https://colab.research.google.com/assets/colab-badge.svg\" alt=\"Open In Colab\"/></a>"
      ]
    },
    {
      "cell_type": "code",
      "execution_count": 1,
      "metadata": {
        "id": "xMzGGgTPByX0"
      },
      "outputs": [],
      "source": [
        "import pandas as pd\n",
        "import numpy as np"
      ]
    },
    {
      "cell_type": "code",
      "source": [
        "n=pd.read_csv('hearthstoke.csv')\n",
        "print(n.head())"
      ],
      "metadata": {
        "colab": {
          "base_uri": "https://localhost:8080/"
        },
        "id": "h0LsCN14WhsR",
        "outputId": "8c55c314-ebb3-4811-9cf2-85d76107ae75"
      },
      "execution_count": 2,
      "outputs": [
        {
          "output_type": "stream",
          "name": "stdout",
          "text": [
            "      id  gender   age  hypertension  heart_disease ever_married  \\\n",
            "0   9046    Male  67.0             0              1          Yes   \n",
            "1  51676  Female  61.0             0              0          Yes   \n",
            "2  31112    Male  80.0             0              1          Yes   \n",
            "3  60182  Female  49.0             0              0          Yes   \n",
            "4   1665  Female  79.0             1              0          Yes   \n",
            "\n",
            "       work_type Residence_type  avg_glucose_level   bmi   smoking_status  \\\n",
            "0        Private          Urban             228.69  36.6  formerly smoked   \n",
            "1  Self-employed          Rural             202.21   NaN     never smoked   \n",
            "2        Private          Rural             105.92  32.5     never smoked   \n",
            "3        Private          Urban             171.23  34.4           smokes   \n",
            "4  Self-employed          Rural             174.12  24.0     never smoked   \n",
            "\n",
            "   stroke  \n",
            "0       1  \n",
            "1       1  \n",
            "2       1  \n",
            "3       1  \n",
            "4       1  \n"
          ]
        }
      ]
    },
    {
      "cell_type": "code",
      "source": [
        "from sklearn.preprocessing import LabelEncoder\n",
        "le_gender=LabelEncoder()\n",
        "le_ever_married=LabelEncoder()\n",
        "le_work_type=LabelEncoder()\n",
        "le_Residence=LabelEncoder()\n",
        "le_smoking=LabelEncoder()\n",
        "n['gender']=le_gender.fit_transform(n['gender'])\n",
        "n['ever_married']=le_ever_married.fit_transform(n['ever_married'])\n",
        "n['work_type']=le_work_type.fit_transform(n['work_type'])\n",
        "n['Residence_type']=le_Residence.fit_transform(n['Residence_type'])\n",
        "n['smoking_status']=le_smoking.fit_transform(n['smoking_status'])\n",
        "print(n)"
      ],
      "metadata": {
        "id": "AAdlwSjSX8Kw",
        "colab": {
          "base_uri": "https://localhost:8080/"
        },
        "outputId": "542fb544-24da-404a-ce6a-620af803a051"
      },
      "execution_count": 3,
      "outputs": [
        {
          "output_type": "stream",
          "name": "stdout",
          "text": [
            "         id  gender   age  hypertension  heart_disease  ever_married  \\\n",
            "0      9046       1  67.0             0              1             1   \n",
            "1     51676       0  61.0             0              0             1   \n",
            "2     31112       1  80.0             0              1             1   \n",
            "3     60182       0  49.0             0              0             1   \n",
            "4      1665       0  79.0             1              0             1   \n",
            "...     ...     ...   ...           ...            ...           ...   \n",
            "5105  18234       0  80.0             1              0             1   \n",
            "5106  44873       0  81.0             0              0             1   \n",
            "5107  19723       0  35.0             0              0             1   \n",
            "5108  37544       1  51.0             0              0             1   \n",
            "5109  44679       0  44.0             0              0             1   \n",
            "\n",
            "      work_type  Residence_type  avg_glucose_level   bmi  smoking_status  \\\n",
            "0             2               1             228.69  36.6               1   \n",
            "1             3               0             202.21   NaN               2   \n",
            "2             2               0             105.92  32.5               2   \n",
            "3             2               1             171.23  34.4               3   \n",
            "4             3               0             174.12  24.0               2   \n",
            "...         ...             ...                ...   ...             ...   \n",
            "5105          2               1              83.75   NaN               2   \n",
            "5106          3               1             125.20  40.0               2   \n",
            "5107          3               0              82.99  30.6               2   \n",
            "5108          2               0             166.29  25.6               1   \n",
            "5109          0               1              85.28  26.2               0   \n",
            "\n",
            "      stroke  \n",
            "0          1  \n",
            "1          1  \n",
            "2          1  \n",
            "3          1  \n",
            "4          1  \n",
            "...      ...  \n",
            "5105       0  \n",
            "5106       0  \n",
            "5107       0  \n",
            "5108       0  \n",
            "5109       0  \n",
            "\n",
            "[5110 rows x 12 columns]\n"
          ]
        }
      ]
    },
    {
      "cell_type": "markdown",
      "source": [
        "# i am deleting \"id\" column because it is not useful for me in this dataset"
      ],
      "metadata": {
        "id": "PYPiI7ZFXuHc"
      }
    },
    {
      "cell_type": "code",
      "source": [
        "n=n.drop(['id'],axis=1)"
      ],
      "metadata": {
        "id": "5rRChUGP2tLo"
      },
      "execution_count": 4,
      "outputs": []
    },
    {
      "cell_type": "code",
      "source": [
        "print(n)"
      ],
      "metadata": {
        "colab": {
          "base_uri": "https://localhost:8080/"
        },
        "id": "1jvFf2kFXGC5",
        "outputId": "356a0902-fe35-49ac-a656-97d835be1e2d"
      },
      "execution_count": 5,
      "outputs": [
        {
          "output_type": "stream",
          "name": "stdout",
          "text": [
            "      gender   age  hypertension  heart_disease  ever_married  work_type  \\\n",
            "0          1  67.0             0              1             1          2   \n",
            "1          0  61.0             0              0             1          3   \n",
            "2          1  80.0             0              1             1          2   \n",
            "3          0  49.0             0              0             1          2   \n",
            "4          0  79.0             1              0             1          3   \n",
            "...      ...   ...           ...            ...           ...        ...   \n",
            "5105       0  80.0             1              0             1          2   \n",
            "5106       0  81.0             0              0             1          3   \n",
            "5107       0  35.0             0              0             1          3   \n",
            "5108       1  51.0             0              0             1          2   \n",
            "5109       0  44.0             0              0             1          0   \n",
            "\n",
            "      Residence_type  avg_glucose_level   bmi  smoking_status  stroke  \n",
            "0                  1             228.69  36.6               1       1  \n",
            "1                  0             202.21   NaN               2       1  \n",
            "2                  0             105.92  32.5               2       1  \n",
            "3                  1             171.23  34.4               3       1  \n",
            "4                  0             174.12  24.0               2       1  \n",
            "...              ...                ...   ...             ...     ...  \n",
            "5105               1              83.75   NaN               2       0  \n",
            "5106               1             125.20  40.0               2       0  \n",
            "5107               0              82.99  30.6               2       0  \n",
            "5108               0             166.29  25.6               1       0  \n",
            "5109               1              85.28  26.2               0       0  \n",
            "\n",
            "[5110 rows x 11 columns]\n"
          ]
        }
      ]
    },
    {
      "cell_type": "markdown",
      "source": [
        "# Here you can see Nan values"
      ],
      "metadata": {
        "id": "VHm-UN02YDb9"
      }
    },
    {
      "cell_type": "code",
      "source": [
        "print(n.iloc[:,8:9])"
      ],
      "metadata": {
        "colab": {
          "base_uri": "https://localhost:8080/"
        },
        "id": "Uz3eUQ5PXVM5",
        "outputId": "1cd6b45c-26c5-424f-ebda-723150ad143a"
      },
      "execution_count": 6,
      "outputs": [
        {
          "output_type": "stream",
          "name": "stdout",
          "text": [
            "       bmi\n",
            "0     36.6\n",
            "1      NaN\n",
            "2     32.5\n",
            "3     34.4\n",
            "4     24.0\n",
            "...    ...\n",
            "5105   NaN\n",
            "5106  40.0\n",
            "5107  30.6\n",
            "5108  25.6\n",
            "5109  26.2\n",
            "\n",
            "[5110 rows x 1 columns]\n"
          ]
        }
      ]
    },
    {
      "cell_type": "code",
      "source": [
        "from sklearn.impute import SimpleImputer\n",
        "imputer=SimpleImputer(missing_values=np.nan,strategy='mean')\n",
        "imputer.fit(n.iloc[:,8:9])\n",
        "n.iloc[:,8:9]=imputer.transform(n.iloc[:,8:9])\n"
      ],
      "metadata": {
        "id": "LXHr8ZTIW3XY"
      },
      "execution_count": 7,
      "outputs": []
    },
    {
      "cell_type": "code",
      "source": [
        "print(n)"
      ],
      "metadata": {
        "colab": {
          "base_uri": "https://localhost:8080/"
        },
        "id": "R8DY76bZMB8j",
        "outputId": "812afff7-62cd-4b5f-a170-45399ef32964"
      },
      "execution_count": 8,
      "outputs": [
        {
          "output_type": "stream",
          "name": "stdout",
          "text": [
            "      gender   age  hypertension  heart_disease  ever_married  work_type  \\\n",
            "0          1  67.0             0              1             1          2   \n",
            "1          0  61.0             0              0             1          3   \n",
            "2          1  80.0             0              1             1          2   \n",
            "3          0  49.0             0              0             1          2   \n",
            "4          0  79.0             1              0             1          3   \n",
            "...      ...   ...           ...            ...           ...        ...   \n",
            "5105       0  80.0             1              0             1          2   \n",
            "5106       0  81.0             0              0             1          3   \n",
            "5107       0  35.0             0              0             1          3   \n",
            "5108       1  51.0             0              0             1          2   \n",
            "5109       0  44.0             0              0             1          0   \n",
            "\n",
            "      Residence_type  avg_glucose_level        bmi  smoking_status  stroke  \n",
            "0                  1             228.69  36.600000               1       1  \n",
            "1                  0             202.21  28.893237               2       1  \n",
            "2                  0             105.92  32.500000               2       1  \n",
            "3                  1             171.23  34.400000               3       1  \n",
            "4                  0             174.12  24.000000               2       1  \n",
            "...              ...                ...        ...             ...     ...  \n",
            "5105               1              83.75  28.893237               2       0  \n",
            "5106               1             125.20  40.000000               2       0  \n",
            "5107               0              82.99  30.600000               2       0  \n",
            "5108               0             166.29  25.600000               1       0  \n",
            "5109               1              85.28  26.200000               0       0  \n",
            "\n",
            "[5110 rows x 11 columns]\n"
          ]
        }
      ]
    },
    {
      "cell_type": "code",
      "source": [
        "from sklearn.model_selection import train_test_split\n",
        "x=n.drop(['stroke'],axis=1)\n",
        "X=x.head(500)\n",
        "y=n['stroke']\n",
        "Y=y.head(500)\n",
        "\n",
        "\n",
        "from sklearn.model_selection import train_test_split\n",
        "x_train,x_test,y_train,y_test=train_test_split(X,Y,test_size=0.2,random_state=42)"
      ],
      "metadata": {
        "id": "YqyuQ1gBZIAy"
      },
      "execution_count": 9,
      "outputs": []
    },
    {
      "cell_type": "code",
      "source": [
        "from sklearn.preprocessing import StandardScaler\n",
        "\n",
        "scaler=StandardScaler()\n",
        "scaler_x_train=scaler.fit_transform(x_train)\n",
        "scaler_x_test=scaler.fit_transform(x_test)"
      ],
      "metadata": {
        "id": "-VE43DgCZPm6"
      },
      "execution_count": 10,
      "outputs": []
    },
    {
      "cell_type": "code",
      "source": [
        "import xgboost as xgb\n",
        "from sklearn.linear_model import LogisticRegression\n",
        "from sklearn.tree import DecisionTreeClassifier\n",
        "from sklearn.ensemble import RandomForestClassifier\n",
        "from sklearn.svm import SVC\n",
        "from sklearn.metrics import accuracy_score, f1_score , confusion_matrix\n",
        "import warnings\n",
        "warnings.filterwarnings('ignore')"
      ],
      "metadata": {
        "id": "WE7bd-SLZRH2"
      },
      "execution_count": 11,
      "outputs": []
    },
    {
      "cell_type": "code",
      "source": [
        "#pip install xgboost"
      ],
      "metadata": {
        "id": "z8uPzNN5ZVrj"
      },
      "execution_count": 12,
      "outputs": []
    },
    {
      "cell_type": "code",
      "source": [
        "models={\n",
        "    'logistic':LogisticRegression(),\n",
        "    'svm':SVC(kernel='rbf'),\n",
        "    'random':RandomForestClassifier(),\n",
        "    'Decision':DecisionTreeClassifier(),\n",
        "    'xgboost':xgb.XGBClassifier()\n",
        "}\n",
        "accuracy_scores = dict()\n",
        "f1_scores = dict()"
      ],
      "metadata": {
        "id": "26969WQHZbpf"
      },
      "execution_count": 13,
      "outputs": []
    },
    {
      "cell_type": "code",
      "source": [
        "for model_name,model in models.items():\n",
        "    model.fit(scaler_x_train,y_train)\n",
        "    y_pred=model.predict(scaler_x_test)\n",
        "\n",
        "    accuracy_scores[model_name] = accuracy_score(y_test,y_pred) * 100\n",
        "    f1_scores[model_name] = f1_score(y_test,y_pred) * 100"
      ],
      "metadata": {
        "id": "M76-yTHTZfj4"
      },
      "execution_count": 14,
      "outputs": []
    },
    {
      "cell_type": "code",
      "source": [
        "print(\"=\"*55)\n",
        "print(\"|\\tModel Name\\tAccuracy Score\\tF1 Score     |\")\n",
        "print(\"=\"*55)\n",
        "for k in accuracy_scores.keys():\n",
        "    print(f\"|{k:^24}{accuracy_scores[k]:>10.2f}{f1_scores[k]:>12.2f}\\t      |\")\n",
        "print(\"=\"*55)"
      ],
      "metadata": {
        "colab": {
          "base_uri": "https://localhost:8080/"
        },
        "id": "VAGcDYhSZinf",
        "outputId": "e8c2bfb9-3f67-40c4-8e79-d1bb28ca4cda"
      },
      "execution_count": 15,
      "outputs": [
        {
          "output_type": "stream",
          "name": "stdout",
          "text": [
            "=======================================================\n",
            "|\tModel Name\tAccuracy Score\tF1 Score     |\n",
            "=======================================================\n",
            "|        logistic             76.00       75.00\t      |\n",
            "|          svm                76.00       76.47\t      |\n",
            "|         random              74.00       75.47\t      |\n",
            "|        Decision             68.00       63.64\t      |\n",
            "|        xgboost              68.00       65.22\t      |\n",
            "=======================================================\n"
          ]
        }
      ]
    },
    {
      "cell_type": "code",
      "source": [
        "w=[1,67,0,1,1,2, 1,228.69,36,1]\n",
        "w=np.array(w)\n",
        "w=w.reshape(1,-1)\n",
        "w_pred=model.predict(w)\n",
        "print(w_pred)"
      ],
      "metadata": {
        "colab": {
          "base_uri": "https://localhost:8080/"
        },
        "id": "4U4CUPFfVqmX",
        "outputId": "11c60cca-b951-4e9f-d307-7e213f573a15"
      },
      "execution_count": 16,
      "outputs": [
        {
          "output_type": "stream",
          "name": "stdout",
          "text": [
            "[1]\n"
          ]
        }
      ]
    }
  ]
}